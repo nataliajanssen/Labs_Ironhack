{
  "nbformat": 4,
  "nbformat_minor": 0,
  "metadata": {
    "kernelspec": {
      "display_name": "Python 3",
      "language": "python",
      "name": "python3"
    },
    "language_info": {
      "codemirror_mode": {
        "name": "ipython",
        "version": 3
      },
      "file_extension": ".py",
      "mimetype": "text/x-python",
      "name": "python",
      "nbconvert_exporter": "python",
      "pygments_lexer": "ipython3",
      "version": "3.7.4"
    },
    "toc": {
      "base_numbering": 1,
      "nav_menu": {},
      "number_sections": true,
      "sideBar": true,
      "skip_h1_title": false,
      "title_cell": "Table of Contents",
      "title_sidebar": "Contents",
      "toc_cell": false,
      "toc_position": {},
      "toc_section_display": true,
      "toc_window_display": false
    },
    "colab": {
      "name": "SkyscannerAPI.ipynb",
      "provenance": []
    }
  },
  "cells": [
    {
      "cell_type": "markdown",
      "metadata": {
        "id": "UN-3h_M66r_c"
      },
      "source": [
        "Instructions  \n",
        "Following the class example, create a function that returns the price, names of origin and arrival airports and the name of the company. Do it for all the flights between two dates that cost the same."
      ]
    },
    {
      "cell_type": "code",
      "metadata": {
        "id": "hYQ_gaz76r_f"
      },
      "source": [
        "import pandas as pd\n",
        "import requests\n",
        "import json\n",
        "import getpass"
      ],
      "execution_count": null,
      "outputs": []
    },
    {
      "cell_type": "code",
      "metadata": {
        "id": "fUM9dZ4W6r_f",
        "outputId": "a750bccf-4189-404d-d596-101db825c25b"
      },
      "source": [
        "rapidAPIkey = getpass.getpass()"
      ],
      "execution_count": null,
      "outputs": [
        {
          "output_type": "stream",
          "text": [
            "········\n"
          ],
          "name": "stdout"
        }
      ]
    },
    {
      "cell_type": "markdown",
      "metadata": {
        "id": "3ma-lipx6r_g"
      },
      "source": [
        "### Function to get the city code"
      ]
    },
    {
      "cell_type": "code",
      "metadata": {
        "id": "hl30xA0q6r_h"
      },
      "source": [
        "url = \"https://skyscanner-skyscanner-flight-search-v1.p.rapidapi.com/apiservices/autosuggest/v1.0/US/USD/en-US/\"\n",
        "\n",
        "params = {\"query\": \"Lisbon\"}\n",
        "    \n",
        "    \n",
        "headers = {'x-rapidapi-host': \"skyscanner-skyscanner-flight-search-v1.p.rapidapi.com\",\n",
        "                      'x-rapidapi-key': rapidAPIkey}\n",
        "\n",
        "response = requests.get(url, headers = headers, params = params)"
      ],
      "execution_count": null,
      "outputs": []
    },
    {
      "cell_type": "code",
      "metadata": {
        "id": "2av6eKs56r_h",
        "outputId": "6fa3abf9-732e-47b4-d668-26f3aa46d3e0"
      },
      "source": [
        "response.json()"
      ],
      "execution_count": null,
      "outputs": [
        {
          "output_type": "execute_result",
          "data": {
            "text/plain": [
              "{'Places': [{'PlaceId': 'LIS-sky',\n",
              "   'PlaceName': 'Lisbon',\n",
              "   'CountryId': 'PT-sky',\n",
              "   'RegionId': '',\n",
              "   'CityId': 'LISB-sky',\n",
              "   'CountryName': 'Portugal'},\n",
              "  {'PlaceId': 'CAT-sky',\n",
              "   'PlaceName': 'Tires',\n",
              "   'CountryId': 'PT-sky',\n",
              "   'RegionId': '',\n",
              "   'CityId': 'CATC-sky',\n",
              "   'CountryName': 'Portugal'}]}"
            ]
          },
          "metadata": {
            "tags": []
          },
          "execution_count": 4
        }
      ]
    },
    {
      "cell_type": "code",
      "metadata": {
        "id": "L3BK1R4a6r_i",
        "outputId": "30c464dc-ae6a-4be1-ce07-22b9fd6458c8"
      },
      "source": [
        "response.json().keys()"
      ],
      "execution_count": null,
      "outputs": [
        {
          "output_type": "execute_result",
          "data": {
            "text/plain": [
              "dict_keys(['Places'])"
            ]
          },
          "metadata": {
            "tags": []
          },
          "execution_count": 5
        }
      ]
    },
    {
      "cell_type": "code",
      "metadata": {
        "id": "BKIXGo8b6r_i",
        "outputId": "13c3cdd9-5c24-4b96-f3f4-83dd9d7a8209"
      },
      "source": [
        "response.json()[\"Places\"]"
      ],
      "execution_count": null,
      "outputs": [
        {
          "output_type": "execute_result",
          "data": {
            "text/plain": [
              "[{'PlaceId': 'LIS-sky',\n",
              "  'PlaceName': 'Lisbon',\n",
              "  'CountryId': 'PT-sky',\n",
              "  'RegionId': '',\n",
              "  'CityId': 'LISB-sky',\n",
              "  'CountryName': 'Portugal'},\n",
              " {'PlaceId': 'CAT-sky',\n",
              "  'PlaceName': 'Tires',\n",
              "  'CountryId': 'PT-sky',\n",
              "  'RegionId': '',\n",
              "  'CityId': 'CATC-sky',\n",
              "  'CountryName': 'Portugal'}]"
            ]
          },
          "metadata": {
            "tags": []
          },
          "execution_count": 6
        }
      ]
    },
    {
      "cell_type": "code",
      "metadata": {
        "id": "b9ozD7A56r_j",
        "outputId": "e3943bd2-bac8-48f7-97e4-53c02a3c8309"
      },
      "source": [
        "response.json()[\"Places\"][0]"
      ],
      "execution_count": null,
      "outputs": [
        {
          "output_type": "execute_result",
          "data": {
            "text/plain": [
              "{'PlaceId': 'LIS-sky',\n",
              " 'PlaceName': 'Lisbon',\n",
              " 'CountryId': 'PT-sky',\n",
              " 'RegionId': '',\n",
              " 'CityId': 'LISB-sky',\n",
              " 'CountryName': 'Portugal'}"
            ]
          },
          "metadata": {
            "tags": []
          },
          "execution_count": 7
        }
      ]
    },
    {
      "cell_type": "code",
      "metadata": {
        "id": "kJz-wQgg6r_j",
        "outputId": "35307cef-2f3d-42c6-8b57-fc358f4128f8"
      },
      "source": [
        "response.json()[\"Places\"][0][\"PlaceId\"]"
      ],
      "execution_count": null,
      "outputs": [
        {
          "output_type": "execute_result",
          "data": {
            "text/plain": [
              "'LIS-sky'"
            ]
          },
          "metadata": {
            "tags": []
          },
          "execution_count": 8
        }
      ]
    },
    {
      "cell_type": "code",
      "metadata": {
        "id": "m4Mns_xv6r_k"
      },
      "source": [
        "def city_code(city_name):\n",
        "    url = \"https://skyscanner-skyscanner-flight-search-v1.p.rapidapi.com/apiservices/autosuggest/v1.0/US/USD/en-US/\"\n",
        "\n",
        "    params = {\"query\": city_name}\n",
        "    \n",
        "    headers = {'x-rapidapi-host': \"skyscanner-skyscanner-flight-search-v1.p.rapidapi.com\",\n",
        "                      'x-rapidapi-key': rapidAPIkey}\n",
        "\n",
        "    response = requests.get(url, headers = headers, params = params)\n",
        "\n",
        "    return response.json()[\"Places\"][0][\"PlaceId\"]"
      ],
      "execution_count": null,
      "outputs": []
    },
    {
      "cell_type": "code",
      "metadata": {
        "id": "eHAUcx-W6r_k",
        "outputId": "1780bcf3-dfd1-4630-8e03-28825b24f8ce"
      },
      "source": [
        "city_code(\"Paris\")"
      ],
      "execution_count": null,
      "outputs": [
        {
          "output_type": "execute_result",
          "data": {
            "text/plain": [
              "'PARI-sky'"
            ]
          },
          "metadata": {
            "tags": []
          },
          "execution_count": 11
        }
      ]
    },
    {
      "cell_type": "markdown",
      "metadata": {
        "id": "Yu2RXMGF6r_k"
      },
      "source": [
        "### Function to get the flight prices for one date"
      ]
    },
    {
      "cell_type": "code",
      "metadata": {
        "id": "UgbA4CWn6r_l"
      },
      "source": [
        "departure_code = city_code(\"Lisbon\")\n",
        "arrival_code = city_code(\"Barcelona\")"
      ],
      "execution_count": null,
      "outputs": []
    },
    {
      "cell_type": "code",
      "metadata": {
        "id": "U8P5l0E86r_l",
        "outputId": "5678232c-491e-4e61-e910-434489a8fe4e"
      },
      "source": [
        "arrival_code"
      ],
      "execution_count": null,
      "outputs": [
        {
          "output_type": "execute_result",
          "data": {
            "text/plain": [
              "'BCN-sky'"
            ]
          },
          "metadata": {
            "tags": []
          },
          "execution_count": 13
        }
      ]
    },
    {
      "cell_type": "code",
      "metadata": {
        "id": "fcXXWy-c6r_l"
      },
      "source": [
        "url = f\"https://skyscanner-skyscanner-flight-search-v1.p.rapidapi.com/apiservices/browsequotes/v1.0/US/USD/en-US/{departure_code}/{arrival_code}/2021-05-19\"\n",
        "\n",
        "params = {\"inboundpartialdate\":\"2021-05-19\"}\n",
        "\n",
        "headers = {\n",
        "    'x-rapidapi-host': \"skyscanner-skyscanner-flight-search-v1.p.rapidapi.com\",\n",
        "    'x-rapidapi-key': rapidAPIkey}\n",
        "\n",
        "response = requests.get(url, headers=headers, params=params)"
      ],
      "execution_count": null,
      "outputs": []
    },
    {
      "cell_type": "code",
      "metadata": {
        "id": "VowMHC2G6r_m",
        "outputId": "2a0cf777-9543-401a-9061-94c55946f7e5"
      },
      "source": [
        "response.json()"
      ],
      "execution_count": null,
      "outputs": [
        {
          "output_type": "execute_result",
          "data": {
            "text/plain": [
              "{'Quotes': [{'QuoteId': 1,\n",
              "   'MinPrice': 63,\n",
              "   'Direct': False,\n",
              "   'OutboundLeg': {'CarrierIds': [1881],\n",
              "    'OriginId': 65747,\n",
              "    'DestinationId': 42414,\n",
              "    'DepartureDate': '2021-05-19T00:00:00'},\n",
              "   'QuoteDateTime': '2021-05-05T14:18:00'},\n",
              "  {'QuoteId': 2,\n",
              "   'MinPrice': 90,\n",
              "   'Direct': True,\n",
              "   'OutboundLeg': {'CarrierIds': [1760],\n",
              "    'OriginId': 65747,\n",
              "    'DestinationId': 42414,\n",
              "    'DepartureDate': '2021-05-19T00:00:00'},\n",
              "   'QuoteDateTime': '2021-05-05T13:34:00'}],\n",
              " 'Carriers': [{'CarrierId': 1760, 'Name': 'TAP Air Portugal'},\n",
              "  {'CarrierId': 1881, 'Name': 'Wizz Air UK'}],\n",
              " 'Places': [{'Name': 'Barcelona',\n",
              "   'Type': 'Station',\n",
              "   'PlaceId': 42414,\n",
              "   'IataCode': 'BCN',\n",
              "   'SkyscannerCode': 'BCN',\n",
              "   'CityName': 'Barcelona',\n",
              "   'CityId': 'BARC',\n",
              "   'CountryName': 'Spain'},\n",
              "  {'Name': 'Lisbon',\n",
              "   'Type': 'Station',\n",
              "   'PlaceId': 65747,\n",
              "   'IataCode': 'LIS',\n",
              "   'SkyscannerCode': 'LIS',\n",
              "   'CityName': 'Lisbon',\n",
              "   'CityId': 'LISB',\n",
              "   'CountryName': 'Portugal'}],\n",
              " 'Currencies': [{'Code': 'USD',\n",
              "   'Symbol': '$',\n",
              "   'ThousandsSeparator': ',',\n",
              "   'DecimalSeparator': '.',\n",
              "   'SymbolOnLeft': True,\n",
              "   'SpaceBetweenAmountAndSymbol': False,\n",
              "   'RoundingCoefficient': 0,\n",
              "   'DecimalDigits': 2}]}"
            ]
          },
          "metadata": {
            "tags": []
          },
          "execution_count": 15
        }
      ]
    },
    {
      "cell_type": "code",
      "metadata": {
        "id": "PTBh6M_I6r_m",
        "outputId": "13f99af9-896d-43e7-e74b-436fa45d67f4"
      },
      "source": [
        "response.json().keys()"
      ],
      "execution_count": null,
      "outputs": [
        {
          "output_type": "execute_result",
          "data": {
            "text/plain": [
              "dict_keys(['Quotes', 'Carriers', 'Places', 'Currencies'])"
            ]
          },
          "metadata": {
            "tags": []
          },
          "execution_count": 16
        }
      ]
    },
    {
      "cell_type": "code",
      "metadata": {
        "id": "nnasgK-Q6r_m",
        "outputId": "8ad865a3-a254-499e-cf51-df07e1cd8f14"
      },
      "source": [
        "response.json()[\"Quotes\"]"
      ],
      "execution_count": null,
      "outputs": [
        {
          "output_type": "execute_result",
          "data": {
            "text/plain": [
              "[{'QuoteId': 1,\n",
              "  'MinPrice': 63,\n",
              "  'Direct': False,\n",
              "  'OutboundLeg': {'CarrierIds': [1881],\n",
              "   'OriginId': 65747,\n",
              "   'DestinationId': 42414,\n",
              "   'DepartureDate': '2021-05-19T00:00:00'},\n",
              "  'QuoteDateTime': '2021-05-05T14:18:00'},\n",
              " {'QuoteId': 2,\n",
              "  'MinPrice': 90,\n",
              "  'Direct': True,\n",
              "  'OutboundLeg': {'CarrierIds': [1760],\n",
              "   'OriginId': 65747,\n",
              "   'DestinationId': 42414,\n",
              "   'DepartureDate': '2021-05-19T00:00:00'},\n",
              "  'QuoteDateTime': '2021-05-05T13:34:00'}]"
            ]
          },
          "metadata": {
            "tags": []
          },
          "execution_count": 17
        }
      ]
    },
    {
      "cell_type": "code",
      "metadata": {
        "id": "5IvCAN8t6r_m",
        "outputId": "e7571830-b9c7-47a2-d61f-3dcf15031ec7"
      },
      "source": [
        "response.json()[\"Carriers\"]"
      ],
      "execution_count": null,
      "outputs": [
        {
          "output_type": "execute_result",
          "data": {
            "text/plain": [
              "[{'CarrierId': 1760, 'Name': 'TAP Air Portugal'},\n",
              " {'CarrierId': 1881, 'Name': 'Wizz Air UK'}]"
            ]
          },
          "metadata": {
            "tags": []
          },
          "execution_count": 18
        }
      ]
    },
    {
      "cell_type": "code",
      "metadata": {
        "id": "ZejzOPCi6r_n",
        "outputId": "3ad6214c-ac4f-4b0f-863d-6d525c5312cc"
      },
      "source": [
        "response.json()[\"Places\"]"
      ],
      "execution_count": null,
      "outputs": [
        {
          "output_type": "execute_result",
          "data": {
            "text/plain": [
              "[{'Name': 'Barcelona',\n",
              "  'Type': 'Station',\n",
              "  'PlaceId': 42414,\n",
              "  'IataCode': 'BCN',\n",
              "  'SkyscannerCode': 'BCN',\n",
              "  'CityName': 'Barcelona',\n",
              "  'CityId': 'BARC',\n",
              "  'CountryName': 'Spain'},\n",
              " {'Name': 'Lisbon',\n",
              "  'Type': 'Station',\n",
              "  'PlaceId': 65747,\n",
              "  'IataCode': 'LIS',\n",
              "  'SkyscannerCode': 'LIS',\n",
              "  'CityName': 'Lisbon',\n",
              "  'CityId': 'LISB',\n",
              "  'CountryName': 'Portugal'}]"
            ]
          },
          "metadata": {
            "tags": []
          },
          "execution_count": 19
        }
      ]
    },
    {
      "cell_type": "code",
      "metadata": {
        "id": "ycwGcwrO6r_n"
      },
      "source": [
        "def flight_prices(departure, arrival, date):\n",
        "\n",
        "    departure_code = city_code(departure)\n",
        "    arrival_code = city_code(arrival)\n",
        "    url = f\"https://skyscanner-skyscanner-flight-search-v1.p.rapidapi.com/apiservices/browsequotes/v1.0/US/USD/en-US/{departure_code}/{arrival_code}/{date}\"\n",
        "\n",
        "    params = {\"inboundpartialdate\":{date}}\n",
        "\n",
        "    headers = {\n",
        "    'x-rapidapi-host': \"skyscanner-skyscanner-flight-search-v1.p.rapidapi.com\",\n",
        "    'x-rapidapi-key': rapidAPIkey}\n",
        "\n",
        "    response = requests.get(url, headers=headers, params=params)\n",
        "\n",
        "    return response.json()"
      ],
      "execution_count": null,
      "outputs": []
    },
    {
      "cell_type": "code",
      "metadata": {
        "id": "RG5GrLn96r_n",
        "outputId": "44ee8203-eadf-4941-cebb-7258787cebb8"
      },
      "source": [
        "flight_prices(\"Barcelona\",\"Madrid\",\"2021-05-09\")"
      ],
      "execution_count": null,
      "outputs": [
        {
          "output_type": "execute_result",
          "data": {
            "text/plain": [
              "{'Quotes': [{'QuoteId': 1,\n",
              "   'MinPrice': 48,\n",
              "   'Direct': True,\n",
              "   'OutboundLeg': {'CarrierIds': [1816],\n",
              "    'OriginId': 42414,\n",
              "    'DestinationId': 67652,\n",
              "    'DepartureDate': '2021-05-07T00:00:00'},\n",
              "   'QuoteDateTime': '2021-05-04T21:29:00'}],\n",
              " 'Carriers': [{'CarrierId': 1816, 'Name': 'Air Europa'}],\n",
              " 'Places': [{'Name': 'Barcelona',\n",
              "   'Type': 'Station',\n",
              "   'PlaceId': 42414,\n",
              "   'IataCode': 'BCN',\n",
              "   'SkyscannerCode': 'BCN',\n",
              "   'CityName': 'Barcelona',\n",
              "   'CityId': 'BARC',\n",
              "   'CountryName': 'Spain'},\n",
              "  {'Name': 'Madrid',\n",
              "   'Type': 'Station',\n",
              "   'PlaceId': 67652,\n",
              "   'IataCode': 'MAD',\n",
              "   'SkyscannerCode': 'MAD',\n",
              "   'CityName': 'Madrid',\n",
              "   'CityId': 'MADR',\n",
              "   'CountryName': 'Spain'}],\n",
              " 'Currencies': [{'Code': 'USD',\n",
              "   'Symbol': '$',\n",
              "   'ThousandsSeparator': ',',\n",
              "   'DecimalSeparator': '.',\n",
              "   'SymbolOnLeft': True,\n",
              "   'SpaceBetweenAmountAndSymbol': False,\n",
              "   'RoundingCoefficient': 0,\n",
              "   'DecimalDigits': 2}]}"
            ]
          },
          "metadata": {
            "tags": []
          },
          "execution_count": 22
        }
      ]
    },
    {
      "cell_type": "markdown",
      "metadata": {
        "id": "z1LnWHEU6r_o"
      },
      "source": [
        "### Functions to get a date range"
      ]
    },
    {
      "cell_type": "code",
      "metadata": {
        "id": "n0kWtKfb6r_o",
        "outputId": "3d191d4b-2391-4d1c-dcae-858cd62abadc"
      },
      "source": [
        "pd.date_range(\"2021-05-19\", \"2021-05-25\",freq='D')"
      ],
      "execution_count": null,
      "outputs": [
        {
          "output_type": "execute_result",
          "data": {
            "text/plain": [
              "DatetimeIndex(['2021-05-19', '2021-05-20', '2021-05-21', '2021-05-22',\n",
              "               '2021-05-23', '2021-05-24', '2021-05-25'],\n",
              "              dtype='datetime64[ns]', freq='D')"
            ]
          },
          "metadata": {
            "tags": []
          },
          "execution_count": 24
        }
      ]
    },
    {
      "cell_type": "code",
      "metadata": {
        "id": "nZFTYnLl6r_o",
        "outputId": "8708435a-cdd1-4840-dad5-c07f7cb8f920"
      },
      "source": [
        "pd.date_range(\"2021-05-19\", \"2021-05-21\",freq='D').format()"
      ],
      "execution_count": null,
      "outputs": [
        {
          "output_type": "execute_result",
          "data": {
            "text/plain": [
              "['2021-05-19', '2021-05-20', '2021-05-21']"
            ]
          },
          "metadata": {
            "tags": []
          },
          "execution_count": 25
        }
      ]
    },
    {
      "cell_type": "code",
      "metadata": {
        "id": "gvM-cOUC6r_o",
        "outputId": "008bbd34-c95d-4b6a-f9b1-7a73e3105d14"
      },
      "source": [
        "pd.Series(pd.date_range(\"2021-05-19\", \"2021-05-21\",freq='D').format())"
      ],
      "execution_count": null,
      "outputs": [
        {
          "output_type": "execute_result",
          "data": {
            "text/plain": [
              "0    2021-05-19\n",
              "1    2021-05-20\n",
              "2    2021-05-21\n",
              "dtype: object"
            ]
          },
          "metadata": {
            "tags": []
          },
          "execution_count": 26
        }
      ]
    },
    {
      "cell_type": "code",
      "metadata": {
        "id": "VladZV2k6r_p"
      },
      "source": [
        "def get_dates(start, end):\n",
        "    return pd.Series(pd.date_range(start, end,freq='D').format())"
      ],
      "execution_count": null,
      "outputs": []
    },
    {
      "cell_type": "code",
      "metadata": {
        "id": "I83r1ZWh6r_p",
        "outputId": "871c4c70-22ff-4d90-fb1e-64607edb07d7"
      },
      "source": [
        "get_dates(\"2021-05-15\", \"2021-05-25\")"
      ],
      "execution_count": null,
      "outputs": [
        {
          "output_type": "execute_result",
          "data": {
            "text/plain": [
              "0     2021-05-15\n",
              "1     2021-05-16\n",
              "2     2021-05-17\n",
              "3     2021-05-18\n",
              "4     2021-05-19\n",
              "5     2021-05-20\n",
              "6     2021-05-21\n",
              "7     2021-05-22\n",
              "8     2021-05-23\n",
              "9     2021-05-24\n",
              "10    2021-05-25\n",
              "dtype: object"
            ]
          },
          "metadata": {
            "tags": []
          },
          "execution_count": 28
        }
      ]
    },
    {
      "cell_type": "markdown",
      "metadata": {
        "id": "q--IT4mP6r_p"
      },
      "source": [
        "### Function to collect flight prices for different dates"
      ]
    },
    {
      "cell_type": "code",
      "metadata": {
        "id": "3lMKJ_ne6r_p",
        "outputId": "4a581215-8bcd-4067-a23d-5d4e29b312cf"
      },
      "source": [
        "flight_prices(\"Lisbon\", \"barcelona\", \"2021-05-21\")"
      ],
      "execution_count": null,
      "outputs": [
        {
          "output_type": "execute_result",
          "data": {
            "text/plain": [
              "{'Quotes': [{'QuoteId': 1,\n",
              "   'MinPrice': 56,\n",
              "   'Direct': True,\n",
              "   'OutboundLeg': {'CarrierIds': [1760],\n",
              "    'OriginId': 65747,\n",
              "    'DestinationId': 42414,\n",
              "    'DepartureDate': '2021-05-21T00:00:00'},\n",
              "   'QuoteDateTime': '2021-05-05T10:34:00'}],\n",
              " 'Carriers': [{'CarrierId': 1760, 'Name': 'TAP Air Portugal'}],\n",
              " 'Places': [{'Name': 'Barcelona',\n",
              "   'Type': 'Station',\n",
              "   'PlaceId': 42414,\n",
              "   'IataCode': 'BCN',\n",
              "   'SkyscannerCode': 'BCN',\n",
              "   'CityName': 'Barcelona',\n",
              "   'CityId': 'BARC',\n",
              "   'CountryName': 'Spain'},\n",
              "  {'Name': 'Lisbon',\n",
              "   'Type': 'Station',\n",
              "   'PlaceId': 65747,\n",
              "   'IataCode': 'LIS',\n",
              "   'SkyscannerCode': 'LIS',\n",
              "   'CityName': 'Lisbon',\n",
              "   'CityId': 'LISB',\n",
              "   'CountryName': 'Portugal'}],\n",
              " 'Currencies': [{'Code': 'USD',\n",
              "   'Symbol': '$',\n",
              "   'ThousandsSeparator': ',',\n",
              "   'DecimalSeparator': '.',\n",
              "   'SymbolOnLeft': True,\n",
              "   'SpaceBetweenAmountAndSymbol': False,\n",
              "   'RoundingCoefficient': 0,\n",
              "   'DecimalDigits': 2}]}"
            ]
          },
          "metadata": {
            "tags": []
          },
          "execution_count": 29
        }
      ]
    },
    {
      "cell_type": "code",
      "metadata": {
        "id": "e5O7rQTh6r_p"
      },
      "source": [
        "dates = get_dates(\"2021-05-19\", \"2021-05-21\")"
      ],
      "execution_count": null,
      "outputs": []
    },
    {
      "cell_type": "code",
      "metadata": {
        "id": "k-PaAIq76r_q",
        "outputId": "28456dd8-caaa-4a3e-d848-0f95a63d9e6c"
      },
      "source": [
        "dates"
      ],
      "execution_count": null,
      "outputs": [
        {
          "output_type": "execute_result",
          "data": {
            "text/plain": [
              "0    2021-05-19\n",
              "1    2021-05-20\n",
              "2    2021-05-21\n",
              "dtype: object"
            ]
          },
          "metadata": {
            "tags": []
          },
          "execution_count": 31
        }
      ]
    },
    {
      "cell_type": "code",
      "metadata": {
        "id": "SH7aZ5WW6r_q",
        "outputId": "6f8912a9-e75d-436b-83e3-317e9ccc3817"
      },
      "source": [
        "flight_prices(\"Lisbon\", \"barcelona\", \"2021-05-20\")"
      ],
      "execution_count": null,
      "outputs": [
        {
          "output_type": "execute_result",
          "data": {
            "text/plain": [
              "{'Quotes': [{'QuoteId': 1,\n",
              "   'MinPrice': 56,\n",
              "   'Direct': True,\n",
              "   'OutboundLeg': {'CarrierIds': [1760],\n",
              "    'OriginId': 65747,\n",
              "    'DestinationId': 42414,\n",
              "    'DepartureDate': '2021-05-21T00:00:00'},\n",
              "   'QuoteDateTime': '2021-05-05T10:34:00'}],\n",
              " 'Carriers': [{'CarrierId': 1760, 'Name': 'TAP Air Portugal'}],\n",
              " 'Places': [{'Name': 'Barcelona',\n",
              "   'Type': 'Station',\n",
              "   'PlaceId': 42414,\n",
              "   'IataCode': 'BCN',\n",
              "   'SkyscannerCode': 'BCN',\n",
              "   'CityName': 'Barcelona',\n",
              "   'CityId': 'BARC',\n",
              "   'CountryName': 'Spain'},\n",
              "  {'Name': 'Lisbon',\n",
              "   'Type': 'Station',\n",
              "   'PlaceId': 65747,\n",
              "   'IataCode': 'LIS',\n",
              "   'SkyscannerCode': 'LIS',\n",
              "   'CityName': 'Lisbon',\n",
              "   'CityId': 'LISB',\n",
              "   'CountryName': 'Portugal'}],\n",
              " 'Currencies': [{'Code': 'USD',\n",
              "   'Symbol': '$',\n",
              "   'ThousandsSeparator': ',',\n",
              "   'DecimalSeparator': '.',\n",
              "   'SymbolOnLeft': True,\n",
              "   'SpaceBetweenAmountAndSymbol': False,\n",
              "   'RoundingCoefficient': 0,\n",
              "   'DecimalDigits': 2}]}"
            ]
          },
          "metadata": {
            "tags": []
          },
          "execution_count": 32
        }
      ]
    },
    {
      "cell_type": "code",
      "metadata": {
        "id": "uoLrZV4Y6r_q",
        "outputId": "a1052fb4-5b83-43a8-ca59-b6e224864a4e"
      },
      "source": [
        "[flight_prices(\"Lisbon\", \"Barcelona\", date) for date in dates]"
      ],
      "execution_count": null,
      "outputs": [
        {
          "output_type": "execute_result",
          "data": {
            "text/plain": [
              "[{'Quotes': [{'QuoteId': 1,\n",
              "    'MinPrice': 44,\n",
              "    'Direct': False,\n",
              "    'OutboundLeg': {'CarrierIds': [1090],\n",
              "     'OriginId': 65747,\n",
              "     'DestinationId': 42414,\n",
              "     'DepartureDate': '2021-05-19T00:00:00'},\n",
              "    'QuoteDateTime': '2021-05-05T15:21:00'},\n",
              "   {'QuoteId': 2,\n",
              "    'MinPrice': 90,\n",
              "    'Direct': True,\n",
              "    'OutboundLeg': {'CarrierIds': [1760],\n",
              "     'OriginId': 65747,\n",
              "     'DestinationId': 42414,\n",
              "     'DepartureDate': '2021-05-19T00:00:00'},\n",
              "    'QuoteDateTime': '2021-05-05T13:34:00'}],\n",
              "  'Carriers': [{'CarrierId': 1760, 'Name': 'TAP Air Portugal'},\n",
              "   {'CarrierId': 1090, 'Name': 'Ryanair'}],\n",
              "  'Places': [{'Name': 'Barcelona',\n",
              "    'Type': 'Station',\n",
              "    'PlaceId': 42414,\n",
              "    'IataCode': 'BCN',\n",
              "    'SkyscannerCode': 'BCN',\n",
              "    'CityName': 'Barcelona',\n",
              "    'CityId': 'BARC',\n",
              "    'CountryName': 'Spain'},\n",
              "   {'Name': 'Lisbon',\n",
              "    'Type': 'Station',\n",
              "    'PlaceId': 65747,\n",
              "    'IataCode': 'LIS',\n",
              "    'SkyscannerCode': 'LIS',\n",
              "    'CityName': 'Lisbon',\n",
              "    'CityId': 'LISB',\n",
              "    'CountryName': 'Portugal'}],\n",
              "  'Currencies': [{'Code': 'USD',\n",
              "    'Symbol': '$',\n",
              "    'ThousandsSeparator': ',',\n",
              "    'DecimalSeparator': '.',\n",
              "    'SymbolOnLeft': True,\n",
              "    'SpaceBetweenAmountAndSymbol': False,\n",
              "    'RoundingCoefficient': 0,\n",
              "    'DecimalDigits': 2}]},\n",
              " {'Quotes': [{'QuoteId': 1,\n",
              "    'MinPrice': 56,\n",
              "    'Direct': True,\n",
              "    'OutboundLeg': {'CarrierIds': [1760],\n",
              "     'OriginId': 65747,\n",
              "     'DestinationId': 42414,\n",
              "     'DepartureDate': '2021-05-20T00:00:00'},\n",
              "    'QuoteDateTime': '2021-05-05T10:08:00'}],\n",
              "  'Carriers': [{'CarrierId': 1760, 'Name': 'TAP Air Portugal'}],\n",
              "  'Places': [{'Name': 'Barcelona',\n",
              "    'Type': 'Station',\n",
              "    'PlaceId': 42414,\n",
              "    'IataCode': 'BCN',\n",
              "    'SkyscannerCode': 'BCN',\n",
              "    'CityName': 'Barcelona',\n",
              "    'CityId': 'BARC',\n",
              "    'CountryName': 'Spain'},\n",
              "   {'Name': 'Lisbon',\n",
              "    'Type': 'Station',\n",
              "    'PlaceId': 65747,\n",
              "    'IataCode': 'LIS',\n",
              "    'SkyscannerCode': 'LIS',\n",
              "    'CityName': 'Lisbon',\n",
              "    'CityId': 'LISB',\n",
              "    'CountryName': 'Portugal'}],\n",
              "  'Currencies': [{'Code': 'USD',\n",
              "    'Symbol': '$',\n",
              "    'ThousandsSeparator': ',',\n",
              "    'DecimalSeparator': '.',\n",
              "    'SymbolOnLeft': True,\n",
              "    'SpaceBetweenAmountAndSymbol': False,\n",
              "    'RoundingCoefficient': 0,\n",
              "    'DecimalDigits': 2}]},\n",
              " {'Quotes': [{'QuoteId': 1,\n",
              "    'MinPrice': 56,\n",
              "    'Direct': True,\n",
              "    'OutboundLeg': {'CarrierIds': [1760],\n",
              "     'OriginId': 65747,\n",
              "     'DestinationId': 42414,\n",
              "     'DepartureDate': '2021-05-21T00:00:00'},\n",
              "    'QuoteDateTime': '2021-05-05T10:34:00'}],\n",
              "  'Carriers': [{'CarrierId': 1760, 'Name': 'TAP Air Portugal'}],\n",
              "  'Places': [{'Name': 'Barcelona',\n",
              "    'Type': 'Station',\n",
              "    'PlaceId': 42414,\n",
              "    'IataCode': 'BCN',\n",
              "    'SkyscannerCode': 'BCN',\n",
              "    'CityName': 'Barcelona',\n",
              "    'CityId': 'BARC',\n",
              "    'CountryName': 'Spain'},\n",
              "   {'Name': 'Lisbon',\n",
              "    'Type': 'Station',\n",
              "    'PlaceId': 65747,\n",
              "    'IataCode': 'LIS',\n",
              "    'SkyscannerCode': 'LIS',\n",
              "    'CityName': 'Lisbon',\n",
              "    'CityId': 'LISB',\n",
              "    'CountryName': 'Portugal'}],\n",
              "  'Currencies': [{'Code': 'USD',\n",
              "    'Symbol': '$',\n",
              "    'ThousandsSeparator': ',',\n",
              "    'DecimalSeparator': '.',\n",
              "    'SymbolOnLeft': True,\n",
              "    'SpaceBetweenAmountAndSymbol': False,\n",
              "    'RoundingCoefficient': 0,\n",
              "    'DecimalDigits': 2}]}]"
            ]
          },
          "metadata": {
            "tags": []
          },
          "execution_count": 33
        }
      ]
    },
    {
      "cell_type": "code",
      "metadata": {
        "id": "429ricMl6r_q"
      },
      "source": [
        "[2,5,7,9]"
      ],
      "execution_count": null,
      "outputs": []
    },
    {
      "cell_type": "code",
      "metadata": {
        "id": "XzJ4Wjgq6r_r"
      },
      "source": [
        "{\"Miguel\":1,86\"brown\",\"Pepe\":\"ugly\"}"
      ],
      "execution_count": null,
      "outputs": []
    },
    {
      "cell_type": "code",
      "metadata": {
        "id": "rzJVHeNR6r_r",
        "outputId": "a80cde20-a910-48a9-ce38-43c12626868c"
      },
      "source": [
        "{date:flight_prices(\"Lisbon\", \"Barcelona\", date) for date in dates}.keys()"
      ],
      "execution_count": null,
      "outputs": [
        {
          "output_type": "execute_result",
          "data": {
            "text/plain": [
              "dict_keys(['2021-05-19', '2021-05-20', '2021-05-21'])"
            ]
          },
          "metadata": {
            "tags": []
          },
          "execution_count": 35
        }
      ]
    },
    {
      "cell_type": "code",
      "metadata": {
        "id": "ttqg_kLt6r_r"
      },
      "source": [
        "def flight_days(origin, destination, start, end):\n",
        "    dates = get_dates(start, end)\n",
        "    return {date:flight_prices(origin, destination, date) for date in dates}"
      ],
      "execution_count": null,
      "outputs": []
    },
    {
      "cell_type": "markdown",
      "metadata": {
        "id": "2AYbqGVx6r_r"
      },
      "source": [
        "### Function to get all the info for the minimum price"
      ]
    },
    {
      "cell_type": "code",
      "metadata": {
        "id": "CboO2b2z6r_r"
      },
      "source": [
        "data_flight = flight_days(\"Lisbon\", \"barcelona\", \"2021-05-19\", \"2021-05-21\")"
      ],
      "execution_count": null,
      "outputs": []
    },
    {
      "cell_type": "code",
      "metadata": {
        "id": "mGpg1ZhX6r_s",
        "outputId": "9c346134-efc0-4633-e809-538e0b10a1d2"
      },
      "source": [
        "data_flight"
      ],
      "execution_count": null,
      "outputs": [
        {
          "output_type": "execute_result",
          "data": {
            "text/plain": [
              "{'2021-05-19': {'Quotes': [{'QuoteId': 1,\n",
              "    'MinPrice': 44,\n",
              "    'Direct': False,\n",
              "    'OutboundLeg': {'CarrierIds': [1090],\n",
              "     'OriginId': 65747,\n",
              "     'DestinationId': 42414,\n",
              "     'DepartureDate': '2021-05-19T00:00:00'},\n",
              "    'QuoteDateTime': '2021-05-05T15:21:00'},\n",
              "   {'QuoteId': 2,\n",
              "    'MinPrice': 90,\n",
              "    'Direct': True,\n",
              "    'OutboundLeg': {'CarrierIds': [1760],\n",
              "     'OriginId': 65747,\n",
              "     'DestinationId': 42414,\n",
              "     'DepartureDate': '2021-05-19T00:00:00'},\n",
              "    'QuoteDateTime': '2021-05-05T13:34:00'}],\n",
              "  'Carriers': [{'CarrierId': 1760, 'Name': 'TAP Air Portugal'},\n",
              "   {'CarrierId': 1090, 'Name': 'Ryanair'}],\n",
              "  'Places': [{'Name': 'Barcelona',\n",
              "    'Type': 'Station',\n",
              "    'PlaceId': 42414,\n",
              "    'IataCode': 'BCN',\n",
              "    'SkyscannerCode': 'BCN',\n",
              "    'CityName': 'Barcelona',\n",
              "    'CityId': 'BARC',\n",
              "    'CountryName': 'Spain'},\n",
              "   {'Name': 'Lisbon',\n",
              "    'Type': 'Station',\n",
              "    'PlaceId': 65747,\n",
              "    'IataCode': 'LIS',\n",
              "    'SkyscannerCode': 'LIS',\n",
              "    'CityName': 'Lisbon',\n",
              "    'CityId': 'LISB',\n",
              "    'CountryName': 'Portugal'}],\n",
              "  'Currencies': [{'Code': 'USD',\n",
              "    'Symbol': '$',\n",
              "    'ThousandsSeparator': ',',\n",
              "    'DecimalSeparator': '.',\n",
              "    'SymbolOnLeft': True,\n",
              "    'SpaceBetweenAmountAndSymbol': False,\n",
              "    'RoundingCoefficient': 0,\n",
              "    'DecimalDigits': 2}]},\n",
              " '2021-05-20': {'Quotes': [{'QuoteId': 1,\n",
              "    'MinPrice': 56,\n",
              "    'Direct': True,\n",
              "    'OutboundLeg': {'CarrierIds': [1760],\n",
              "     'OriginId': 65747,\n",
              "     'DestinationId': 42414,\n",
              "     'DepartureDate': '2021-05-20T00:00:00'},\n",
              "    'QuoteDateTime': '2021-05-05T10:08:00'}],\n",
              "  'Carriers': [{'CarrierId': 1760, 'Name': 'TAP Air Portugal'}],\n",
              "  'Places': [{'Name': 'Barcelona',\n",
              "    'Type': 'Station',\n",
              "    'PlaceId': 42414,\n",
              "    'IataCode': 'BCN',\n",
              "    'SkyscannerCode': 'BCN',\n",
              "    'CityName': 'Barcelona',\n",
              "    'CityId': 'BARC',\n",
              "    'CountryName': 'Spain'},\n",
              "   {'Name': 'Lisbon',\n",
              "    'Type': 'Station',\n",
              "    'PlaceId': 65747,\n",
              "    'IataCode': 'LIS',\n",
              "    'SkyscannerCode': 'LIS',\n",
              "    'CityName': 'Lisbon',\n",
              "    'CityId': 'LISB',\n",
              "    'CountryName': 'Portugal'}],\n",
              "  'Currencies': [{'Code': 'USD',\n",
              "    'Symbol': '$',\n",
              "    'ThousandsSeparator': ',',\n",
              "    'DecimalSeparator': '.',\n",
              "    'SymbolOnLeft': True,\n",
              "    'SpaceBetweenAmountAndSymbol': False,\n",
              "    'RoundingCoefficient': 0,\n",
              "    'DecimalDigits': 2}]},\n",
              " '2021-05-21': {'Quotes': [{'QuoteId': 1,\n",
              "    'MinPrice': 56,\n",
              "    'Direct': True,\n",
              "    'OutboundLeg': {'CarrierIds': [1760],\n",
              "     'OriginId': 65747,\n",
              "     'DestinationId': 42414,\n",
              "     'DepartureDate': '2021-05-21T00:00:00'},\n",
              "    'QuoteDateTime': '2021-05-05T10:34:00'}],\n",
              "  'Carriers': [{'CarrierId': 1760, 'Name': 'TAP Air Portugal'}],\n",
              "  'Places': [{'Name': 'Barcelona',\n",
              "    'Type': 'Station',\n",
              "    'PlaceId': 42414,\n",
              "    'IataCode': 'BCN',\n",
              "    'SkyscannerCode': 'BCN',\n",
              "    'CityName': 'Barcelona',\n",
              "    'CityId': 'BARC',\n",
              "    'CountryName': 'Spain'},\n",
              "   {'Name': 'Lisbon',\n",
              "    'Type': 'Station',\n",
              "    'PlaceId': 65747,\n",
              "    'IataCode': 'LIS',\n",
              "    'SkyscannerCode': 'LIS',\n",
              "    'CityName': 'Lisbon',\n",
              "    'CityId': 'LISB',\n",
              "    'CountryName': 'Portugal'}],\n",
              "  'Currencies': [{'Code': 'USD',\n",
              "    'Symbol': '$',\n",
              "    'ThousandsSeparator': ',',\n",
              "    'DecimalSeparator': '.',\n",
              "    'SymbolOnLeft': True,\n",
              "    'SpaceBetweenAmountAndSymbol': False,\n",
              "    'RoundingCoefficient': 0,\n",
              "    'DecimalDigits': 2}]}}"
            ]
          },
          "metadata": {
            "tags": []
          },
          "execution_count": 38
        }
      ]
    },
    {
      "cell_type": "code",
      "metadata": {
        "id": "K_eA4_Jh6r_s",
        "outputId": "9ca0b704-13ec-4f76-e246-d36f78a17fe8"
      },
      "source": [
        "data_flight.keys()"
      ],
      "execution_count": null,
      "outputs": [
        {
          "output_type": "execute_result",
          "data": {
            "text/plain": [
              "dict_keys(['2021-05-19', '2021-05-20', '2021-05-21'])"
            ]
          },
          "metadata": {
            "tags": []
          },
          "execution_count": 39
        }
      ]
    },
    {
      "cell_type": "code",
      "metadata": {
        "id": "WcLYvzJd6r_s",
        "outputId": "4662c7bc-8e1e-4393-e856-48b548bed111"
      },
      "source": [
        "data_flight[\"2021-05-21\"].keys()"
      ],
      "execution_count": null,
      "outputs": [
        {
          "output_type": "execute_result",
          "data": {
            "text/plain": [
              "dict_keys(['Quotes', 'Carriers', 'Places', 'Currencies'])"
            ]
          },
          "metadata": {
            "tags": []
          },
          "execution_count": 41
        }
      ]
    },
    {
      "cell_type": "code",
      "metadata": {
        "scrolled": true,
        "id": "qo3Hdx-K6r_s",
        "outputId": "2a8e25fe-fce6-41ca-c0e7-6fa6edeaff20"
      },
      "source": [
        "data_flight['2021-05-21']['Quotes']"
      ],
      "execution_count": null,
      "outputs": [
        {
          "output_type": "execute_result",
          "data": {
            "text/plain": [
              "[{'QuoteId': 1,\n",
              "  'MinPrice': 56,\n",
              "  'Direct': True,\n",
              "  'OutboundLeg': {'CarrierIds': [1760],\n",
              "   'OriginId': 65747,\n",
              "   'DestinationId': 42414,\n",
              "   'DepartureDate': '2021-05-21T00:00:00'},\n",
              "  'QuoteDateTime': '2021-05-05T10:34:00'}]"
            ]
          },
          "metadata": {
            "tags": []
          },
          "execution_count": 43
        }
      ]
    },
    {
      "cell_type": "code",
      "metadata": {
        "id": "iEODFl046r_t",
        "outputId": "b98b4b38-b812-4184-fa16-9f48df5ae078"
      },
      "source": [
        "pd.json_normalize(data_flight[\"2021-05-21\"]['Quotes'])"
      ],
      "execution_count": null,
      "outputs": [
        {
          "output_type": "execute_result",
          "data": {
            "text/html": [
              "<div>\n",
              "<style scoped>\n",
              "    .dataframe tbody tr th:only-of-type {\n",
              "        vertical-align: middle;\n",
              "    }\n",
              "\n",
              "    .dataframe tbody tr th {\n",
              "        vertical-align: top;\n",
              "    }\n",
              "\n",
              "    .dataframe thead th {\n",
              "        text-align: right;\n",
              "    }\n",
              "</style>\n",
              "<table border=\"1\" class=\"dataframe\">\n",
              "  <thead>\n",
              "    <tr style=\"text-align: right;\">\n",
              "      <th></th>\n",
              "      <th>QuoteId</th>\n",
              "      <th>MinPrice</th>\n",
              "      <th>Direct</th>\n",
              "      <th>QuoteDateTime</th>\n",
              "      <th>OutboundLeg.CarrierIds</th>\n",
              "      <th>OutboundLeg.OriginId</th>\n",
              "      <th>OutboundLeg.DestinationId</th>\n",
              "      <th>OutboundLeg.DepartureDate</th>\n",
              "    </tr>\n",
              "  </thead>\n",
              "  <tbody>\n",
              "    <tr>\n",
              "      <th>0</th>\n",
              "      <td>1</td>\n",
              "      <td>56</td>\n",
              "      <td>True</td>\n",
              "      <td>2021-05-05T10:34:00</td>\n",
              "      <td>[1760]</td>\n",
              "      <td>65747</td>\n",
              "      <td>42414</td>\n",
              "      <td>2021-05-21T00:00:00</td>\n",
              "    </tr>\n",
              "  </tbody>\n",
              "</table>\n",
              "</div>"
            ],
            "text/plain": [
              "   QuoteId  MinPrice  Direct        QuoteDateTime OutboundLeg.CarrierIds  \\\n",
              "0        1        56    True  2021-05-05T10:34:00                 [1760]   \n",
              "\n",
              "   OutboundLeg.OriginId  OutboundLeg.DestinationId OutboundLeg.DepartureDate  \n",
              "0                 65747                      42414       2021-05-21T00:00:00  "
            ]
          },
          "metadata": {
            "tags": []
          },
          "execution_count": 45
        }
      ]
    },
    {
      "cell_type": "code",
      "metadata": {
        "id": "eb62N5wK6r_t"
      },
      "source": [
        "df_flight_dates = pd.DataFrame()\n",
        "df_carriers = pd.DataFrame()\n",
        "df_places = pd.DataFrame()"
      ],
      "execution_count": null,
      "outputs": []
    },
    {
      "cell_type": "code",
      "metadata": {
        "id": "xDbBZRHp6r_t"
      },
      "source": [
        "for day in data_flight.keys():\n",
        "        df_flight_dates = df_flight_dates.append(pd.json_normalize(data_flight[day]['Quotes']))\n",
        "        df_carriers = df_carriers.append(pd.json_normalize(data_flight[day]['Carriers'])).drop_duplicates()\n",
        "        df_places = df_places.append(pd.json_normalize(data_flight[day]['Places'])).drop_duplicates()"
      ],
      "execution_count": null,
      "outputs": []
    },
    {
      "cell_type": "code",
      "metadata": {
        "id": "Pi2Zer_y6r_t",
        "outputId": "6d7dbb43-1cc2-44ff-d4dd-f6278797eaa5"
      },
      "source": [
        "df_flight_dates"
      ],
      "execution_count": null,
      "outputs": [
        {
          "output_type": "execute_result",
          "data": {
            "text/html": [
              "<div>\n",
              "<style scoped>\n",
              "    .dataframe tbody tr th:only-of-type {\n",
              "        vertical-align: middle;\n",
              "    }\n",
              "\n",
              "    .dataframe tbody tr th {\n",
              "        vertical-align: top;\n",
              "    }\n",
              "\n",
              "    .dataframe thead th {\n",
              "        text-align: right;\n",
              "    }\n",
              "</style>\n",
              "<table border=\"1\" class=\"dataframe\">\n",
              "  <thead>\n",
              "    <tr style=\"text-align: right;\">\n",
              "      <th></th>\n",
              "      <th>QuoteId</th>\n",
              "      <th>MinPrice</th>\n",
              "      <th>Direct</th>\n",
              "      <th>QuoteDateTime</th>\n",
              "      <th>OutboundLeg.CarrierIds</th>\n",
              "      <th>OutboundLeg.OriginId</th>\n",
              "      <th>OutboundLeg.DestinationId</th>\n",
              "      <th>OutboundLeg.DepartureDate</th>\n",
              "    </tr>\n",
              "  </thead>\n",
              "  <tbody>\n",
              "    <tr>\n",
              "      <th>0</th>\n",
              "      <td>1</td>\n",
              "      <td>44</td>\n",
              "      <td>False</td>\n",
              "      <td>2021-05-05T15:21:00</td>\n",
              "      <td>[1090]</td>\n",
              "      <td>65747</td>\n",
              "      <td>42414</td>\n",
              "      <td>2021-05-19T00:00:00</td>\n",
              "    </tr>\n",
              "    <tr>\n",
              "      <th>1</th>\n",
              "      <td>2</td>\n",
              "      <td>90</td>\n",
              "      <td>True</td>\n",
              "      <td>2021-05-05T13:34:00</td>\n",
              "      <td>[1760]</td>\n",
              "      <td>65747</td>\n",
              "      <td>42414</td>\n",
              "      <td>2021-05-19T00:00:00</td>\n",
              "    </tr>\n",
              "    <tr>\n",
              "      <th>0</th>\n",
              "      <td>1</td>\n",
              "      <td>56</td>\n",
              "      <td>True</td>\n",
              "      <td>2021-05-05T10:08:00</td>\n",
              "      <td>[1760]</td>\n",
              "      <td>65747</td>\n",
              "      <td>42414</td>\n",
              "      <td>2021-05-20T00:00:00</td>\n",
              "    </tr>\n",
              "    <tr>\n",
              "      <th>0</th>\n",
              "      <td>1</td>\n",
              "      <td>56</td>\n",
              "      <td>True</td>\n",
              "      <td>2021-05-05T10:34:00</td>\n",
              "      <td>[1760]</td>\n",
              "      <td>65747</td>\n",
              "      <td>42414</td>\n",
              "      <td>2021-05-21T00:00:00</td>\n",
              "    </tr>\n",
              "  </tbody>\n",
              "</table>\n",
              "</div>"
            ],
            "text/plain": [
              "   QuoteId  MinPrice  Direct        QuoteDateTime OutboundLeg.CarrierIds  \\\n",
              "0        1        44   False  2021-05-05T15:21:00                 [1090]   \n",
              "1        2        90    True  2021-05-05T13:34:00                 [1760]   \n",
              "0        1        56    True  2021-05-05T10:08:00                 [1760]   \n",
              "0        1        56    True  2021-05-05T10:34:00                 [1760]   \n",
              "\n",
              "   OutboundLeg.OriginId  OutboundLeg.DestinationId OutboundLeg.DepartureDate  \n",
              "0                 65747                      42414       2021-05-19T00:00:00  \n",
              "1                 65747                      42414       2021-05-19T00:00:00  \n",
              "0                 65747                      42414       2021-05-20T00:00:00  \n",
              "0                 65747                      42414       2021-05-21T00:00:00  "
            ]
          },
          "metadata": {
            "tags": []
          },
          "execution_count": 48
        }
      ]
    },
    {
      "cell_type": "code",
      "metadata": {
        "id": "JMFu4DNV6r_t",
        "outputId": "a574c13f-d1c5-4847-ae6d-88616135965a"
      },
      "source": [
        "df_carriers"
      ],
      "execution_count": null,
      "outputs": [
        {
          "output_type": "execute_result",
          "data": {
            "text/html": [
              "<div>\n",
              "<style scoped>\n",
              "    .dataframe tbody tr th:only-of-type {\n",
              "        vertical-align: middle;\n",
              "    }\n",
              "\n",
              "    .dataframe tbody tr th {\n",
              "        vertical-align: top;\n",
              "    }\n",
              "\n",
              "    .dataframe thead th {\n",
              "        text-align: right;\n",
              "    }\n",
              "</style>\n",
              "<table border=\"1\" class=\"dataframe\">\n",
              "  <thead>\n",
              "    <tr style=\"text-align: right;\">\n",
              "      <th></th>\n",
              "      <th>CarrierId</th>\n",
              "      <th>Name</th>\n",
              "    </tr>\n",
              "  </thead>\n",
              "  <tbody>\n",
              "    <tr>\n",
              "      <th>0</th>\n",
              "      <td>1760</td>\n",
              "      <td>TAP Air Portugal</td>\n",
              "    </tr>\n",
              "    <tr>\n",
              "      <th>1</th>\n",
              "      <td>1090</td>\n",
              "      <td>Ryanair</td>\n",
              "    </tr>\n",
              "  </tbody>\n",
              "</table>\n",
              "</div>"
            ],
            "text/plain": [
              "   CarrierId              Name\n",
              "0       1760  TAP Air Portugal\n",
              "1       1090           Ryanair"
            ]
          },
          "metadata": {
            "tags": []
          },
          "execution_count": 49
        }
      ]
    },
    {
      "cell_type": "code",
      "metadata": {
        "id": "h442-fDI6r_u",
        "outputId": "2489ade5-e765-44c6-8a37-393f23755dce"
      },
      "source": [
        "df_places"
      ],
      "execution_count": null,
      "outputs": [
        {
          "output_type": "execute_result",
          "data": {
            "text/html": [
              "<div>\n",
              "<style scoped>\n",
              "    .dataframe tbody tr th:only-of-type {\n",
              "        vertical-align: middle;\n",
              "    }\n",
              "\n",
              "    .dataframe tbody tr th {\n",
              "        vertical-align: top;\n",
              "    }\n",
              "\n",
              "    .dataframe thead th {\n",
              "        text-align: right;\n",
              "    }\n",
              "</style>\n",
              "<table border=\"1\" class=\"dataframe\">\n",
              "  <thead>\n",
              "    <tr style=\"text-align: right;\">\n",
              "      <th></th>\n",
              "      <th>Name</th>\n",
              "      <th>Type</th>\n",
              "      <th>PlaceId</th>\n",
              "      <th>IataCode</th>\n",
              "      <th>SkyscannerCode</th>\n",
              "      <th>CityName</th>\n",
              "      <th>CityId</th>\n",
              "      <th>CountryName</th>\n",
              "    </tr>\n",
              "  </thead>\n",
              "  <tbody>\n",
              "    <tr>\n",
              "      <th>0</th>\n",
              "      <td>Barcelona</td>\n",
              "      <td>Station</td>\n",
              "      <td>42414</td>\n",
              "      <td>BCN</td>\n",
              "      <td>BCN</td>\n",
              "      <td>Barcelona</td>\n",
              "      <td>BARC</td>\n",
              "      <td>Spain</td>\n",
              "    </tr>\n",
              "    <tr>\n",
              "      <th>1</th>\n",
              "      <td>Lisbon</td>\n",
              "      <td>Station</td>\n",
              "      <td>65747</td>\n",
              "      <td>LIS</td>\n",
              "      <td>LIS</td>\n",
              "      <td>Lisbon</td>\n",
              "      <td>LISB</td>\n",
              "      <td>Portugal</td>\n",
              "    </tr>\n",
              "  </tbody>\n",
              "</table>\n",
              "</div>"
            ],
            "text/plain": [
              "        Name     Type  PlaceId IataCode SkyscannerCode   CityName CityId  \\\n",
              "0  Barcelona  Station    42414      BCN            BCN  Barcelona   BARC   \n",
              "1     Lisbon  Station    65747      LIS            LIS     Lisbon   LISB   \n",
              "\n",
              "  CountryName  \n",
              "0       Spain  \n",
              "1    Portugal  "
            ]
          },
          "metadata": {
            "tags": []
          },
          "execution_count": 50
        }
      ]
    },
    {
      "cell_type": "code",
      "metadata": {
        "id": "2x67RC5U6r_u",
        "outputId": "6731cf2b-efd4-4883-b4a3-787554d55d7a"
      },
      "source": [
        "#Find the cheapest flight\n",
        "df_flight_dates[(df_flight_dates['MinPrice'] == df_flight_dates['MinPrice'].min())]"
      ],
      "execution_count": null,
      "outputs": [
        {
          "output_type": "execute_result",
          "data": {
            "text/html": [
              "<div>\n",
              "<style scoped>\n",
              "    .dataframe tbody tr th:only-of-type {\n",
              "        vertical-align: middle;\n",
              "    }\n",
              "\n",
              "    .dataframe tbody tr th {\n",
              "        vertical-align: top;\n",
              "    }\n",
              "\n",
              "    .dataframe thead th {\n",
              "        text-align: right;\n",
              "    }\n",
              "</style>\n",
              "<table border=\"1\" class=\"dataframe\">\n",
              "  <thead>\n",
              "    <tr style=\"text-align: right;\">\n",
              "      <th></th>\n",
              "      <th>QuoteId</th>\n",
              "      <th>MinPrice</th>\n",
              "      <th>Direct</th>\n",
              "      <th>QuoteDateTime</th>\n",
              "      <th>OutboundLeg.CarrierIds</th>\n",
              "      <th>OutboundLeg.OriginId</th>\n",
              "      <th>OutboundLeg.DestinationId</th>\n",
              "      <th>OutboundLeg.DepartureDate</th>\n",
              "    </tr>\n",
              "  </thead>\n",
              "  <tbody>\n",
              "    <tr>\n",
              "      <th>0</th>\n",
              "      <td>1</td>\n",
              "      <td>44</td>\n",
              "      <td>False</td>\n",
              "      <td>2021-05-05T15:21:00</td>\n",
              "      <td>[1090]</td>\n",
              "      <td>65747</td>\n",
              "      <td>42414</td>\n",
              "      <td>2021-05-19T00:00:00</td>\n",
              "    </tr>\n",
              "  </tbody>\n",
              "</table>\n",
              "</div>"
            ],
            "text/plain": [
              "   QuoteId  MinPrice  Direct        QuoteDateTime OutboundLeg.CarrierIds  \\\n",
              "0        1        44   False  2021-05-05T15:21:00                 [1090]   \n",
              "\n",
              "   OutboundLeg.OriginId  OutboundLeg.DestinationId OutboundLeg.DepartureDate  \n",
              "0                 65747                      42414       2021-05-19T00:00:00  "
            ]
          },
          "metadata": {
            "tags": []
          },
          "execution_count": 51
        }
      ]
    },
    {
      "cell_type": "code",
      "metadata": {
        "id": "f29eaRQl6r_u"
      },
      "source": [
        "price_cheap_flight = df_flight_dates[(df_flight_dates['MinPrice'] == df_flight_dates['MinPrice'].min())]"
      ],
      "execution_count": null,
      "outputs": []
    },
    {
      "cell_type": "code",
      "metadata": {
        "id": "-Tm4E7MI6r_v",
        "outputId": "e938bed2-d5e2-4cd7-dd47-9d0cfada7dac"
      },
      "source": [
        "price_cheap_flight['QuoteDateTime']"
      ],
      "execution_count": null,
      "outputs": [
        {
          "output_type": "execute_result",
          "data": {
            "text/plain": [
              "0    2021-05-05T15:21:00\n",
              "Name: QuoteDateTime, dtype: object"
            ]
          },
          "metadata": {
            "tags": []
          },
          "execution_count": 54
        }
      ]
    },
    {
      "cell_type": "code",
      "metadata": {
        "id": "FcTF-yQB6r_v",
        "outputId": "27cd0559-1677-4d8d-8e74-b29089ee6a31"
      },
      "source": [
        "price_cheap_flight['QuoteDateTime'].values"
      ],
      "execution_count": null,
      "outputs": [
        {
          "output_type": "execute_result",
          "data": {
            "text/plain": [
              "array(['2021-05-05T15:21:00'], dtype=object)"
            ]
          },
          "metadata": {
            "tags": []
          },
          "execution_count": 55
        }
      ]
    },
    {
      "cell_type": "code",
      "metadata": {
        "id": "mDHmr-cP6r_v",
        "outputId": "c324d5c7-5b07-4075-d6f3-f04509f2ac74"
      },
      "source": [
        "#Here we get the date\n",
        "price_cheap_flight['QuoteDateTime'].values[0] "
      ],
      "execution_count": null,
      "outputs": [
        {
          "output_type": "execute_result",
          "data": {
            "text/plain": [
              "'2021-05-05T15:21:00'"
            ]
          },
          "metadata": {
            "tags": []
          },
          "execution_count": 56
        }
      ]
    },
    {
      "cell_type": "code",
      "metadata": {
        "id": "hLCbmo-86r_v",
        "outputId": "464215b2-0d6e-4da8-90dd-23c5d665b1cc"
      },
      "source": [
        "df_carriers"
      ],
      "execution_count": null,
      "outputs": [
        {
          "output_type": "execute_result",
          "data": {
            "text/html": [
              "<div>\n",
              "<style scoped>\n",
              "    .dataframe tbody tr th:only-of-type {\n",
              "        vertical-align: middle;\n",
              "    }\n",
              "\n",
              "    .dataframe tbody tr th {\n",
              "        vertical-align: top;\n",
              "    }\n",
              "\n",
              "    .dataframe thead th {\n",
              "        text-align: right;\n",
              "    }\n",
              "</style>\n",
              "<table border=\"1\" class=\"dataframe\">\n",
              "  <thead>\n",
              "    <tr style=\"text-align: right;\">\n",
              "      <th></th>\n",
              "      <th>CarrierId</th>\n",
              "      <th>Name</th>\n",
              "    </tr>\n",
              "  </thead>\n",
              "  <tbody>\n",
              "    <tr>\n",
              "      <th>0</th>\n",
              "      <td>1760</td>\n",
              "      <td>TAP Air Portugal</td>\n",
              "    </tr>\n",
              "    <tr>\n",
              "      <th>1</th>\n",
              "      <td>1090</td>\n",
              "      <td>Ryanair</td>\n",
              "    </tr>\n",
              "  </tbody>\n",
              "</table>\n",
              "</div>"
            ],
            "text/plain": [
              "   CarrierId              Name\n",
              "0       1760  TAP Air Portugal\n",
              "1       1090           Ryanair"
            ]
          },
          "metadata": {
            "tags": []
          },
          "execution_count": 57
        }
      ]
    },
    {
      "cell_type": "code",
      "metadata": {
        "id": "gU8bwYJ26r_w",
        "outputId": "381b5f1d-e450-4d50-9af4-3e54b556b110"
      },
      "source": [
        "#Here we get the carrier\n",
        "df_carriers.loc[(price_cheap_flight['OutboundLeg.CarrierIds'].iloc[0][0] == df_carriers['CarrierId']),'Name'].values[0]"
      ],
      "execution_count": null,
      "outputs": [
        {
          "output_type": "execute_result",
          "data": {
            "text/plain": [
              "'Ryanair'"
            ]
          },
          "metadata": {
            "tags": []
          },
          "execution_count": 58
        }
      ]
    },
    {
      "cell_type": "code",
      "metadata": {
        "id": "hXGz10B26r_w",
        "outputId": "3781bd86-b0f6-4fa5-dc37-63c36303031c"
      },
      "source": [
        "df_places"
      ],
      "execution_count": null,
      "outputs": [
        {
          "output_type": "execute_result",
          "data": {
            "text/html": [
              "<div>\n",
              "<style scoped>\n",
              "    .dataframe tbody tr th:only-of-type {\n",
              "        vertical-align: middle;\n",
              "    }\n",
              "\n",
              "    .dataframe tbody tr th {\n",
              "        vertical-align: top;\n",
              "    }\n",
              "\n",
              "    .dataframe thead th {\n",
              "        text-align: right;\n",
              "    }\n",
              "</style>\n",
              "<table border=\"1\" class=\"dataframe\">\n",
              "  <thead>\n",
              "    <tr style=\"text-align: right;\">\n",
              "      <th></th>\n",
              "      <th>Name</th>\n",
              "      <th>Type</th>\n",
              "      <th>PlaceId</th>\n",
              "      <th>IataCode</th>\n",
              "      <th>SkyscannerCode</th>\n",
              "      <th>CityName</th>\n",
              "      <th>CityId</th>\n",
              "      <th>CountryName</th>\n",
              "    </tr>\n",
              "  </thead>\n",
              "  <tbody>\n",
              "    <tr>\n",
              "      <th>0</th>\n",
              "      <td>Barcelona</td>\n",
              "      <td>Station</td>\n",
              "      <td>42414</td>\n",
              "      <td>BCN</td>\n",
              "      <td>BCN</td>\n",
              "      <td>Barcelona</td>\n",
              "      <td>BARC</td>\n",
              "      <td>Spain</td>\n",
              "    </tr>\n",
              "    <tr>\n",
              "      <th>1</th>\n",
              "      <td>Lisbon</td>\n",
              "      <td>Station</td>\n",
              "      <td>65747</td>\n",
              "      <td>LIS</td>\n",
              "      <td>LIS</td>\n",
              "      <td>Lisbon</td>\n",
              "      <td>LISB</td>\n",
              "      <td>Portugal</td>\n",
              "    </tr>\n",
              "  </tbody>\n",
              "</table>\n",
              "</div>"
            ],
            "text/plain": [
              "        Name     Type  PlaceId IataCode SkyscannerCode   CityName CityId  \\\n",
              "0  Barcelona  Station    42414      BCN            BCN  Barcelona   BARC   \n",
              "1     Lisbon  Station    65747      LIS            LIS     Lisbon   LISB   \n",
              "\n",
              "  CountryName  \n",
              "0       Spain  \n",
              "1    Portugal  "
            ]
          },
          "metadata": {
            "tags": []
          },
          "execution_count": 59
        }
      ]
    },
    {
      "cell_type": "code",
      "metadata": {
        "id": "1TlSJmiN6r_w",
        "outputId": "efbeab21-586e-4f0e-9620-4d2164652d57"
      },
      "source": [
        "#Here we get the origin\n",
        "df_places.loc[(df_places['PlaceId'] == price_cheap_flight['OutboundLeg.OriginId'].iloc[0]) ,'Name'].values[0]"
      ],
      "execution_count": null,
      "outputs": [
        {
          "output_type": "execute_result",
          "data": {
            "text/plain": [
              "'Lisbon'"
            ]
          },
          "metadata": {
            "tags": []
          },
          "execution_count": 60
        }
      ]
    },
    {
      "cell_type": "code",
      "metadata": {
        "id": "DW26Idzx6r_w",
        "outputId": "a1e5e4c7-04e9-42a7-b912-9ea2e44ef67a"
      },
      "source": [
        "#Here we get the destination\n",
        "df_places.loc[(df_places['PlaceId'] == price_cheap_flight['OutboundLeg.DestinationId'].iloc[0]) ,'Name'].values[0]"
      ],
      "execution_count": null,
      "outputs": [
        {
          "output_type": "execute_result",
          "data": {
            "text/plain": [
              "'Barcelona'"
            ]
          },
          "metadata": {
            "tags": []
          },
          "execution_count": 61
        }
      ]
    },
    {
      "cell_type": "code",
      "metadata": {
        "id": "ByS8wzaB6r_x"
      },
      "source": [
        ""
      ],
      "execution_count": null,
      "outputs": []
    },
    {
      "cell_type": "code",
      "metadata": {
        "id": "XUxDhFVB6r_x"
      },
      "source": [
        "def lowest_price_data(origin, destination, start, end):\n",
        "    data_flight = flight_days(origin, destination, start, end)\n",
        "    \n",
        "    \n",
        "    df_flight_dates = pd.DataFrame()\n",
        "    df_carriers = pd.DataFrame()\n",
        "    df_places = pd.DataFrame()\n",
        "    \n",
        "    \n",
        "    for day in data_flight.keys():\n",
        "        df_flight_dates = df_flight_dates.append(pd.json_normalize(data_flight[day]['Quotes']))\n",
        "        df_carriers = df_carriers.append(pd.json_normalize(data_flight[day]['Carriers'])).drop_duplicates()\n",
        "        df_places = df_places.append(pd.json_normalize(data_flight[day]['Places'])).drop_duplicates()\n",
        "    \n",
        "\n",
        "    price_cheap_flight = df_flight_dates.loc[(df_flight_dates['MinPrice'] == df_flight_dates['MinPrice'].min()),:]\n",
        "    \n",
        "    departure_date = price_cheap_flight['QuoteDateTime'].values[0]\n",
        "    company_name = df_carriers.loc[(price_cheap_flight['OutboundLeg.CarrierIds'].iloc[0][0] == df_carriers['CarrierId']),'Name'].values[0]\n",
        "    departure = df_places.loc[(df_places['PlaceId'] == price_cheap_flight['OutboundLeg.OriginId'].iloc[0]) ,'Name'].values[0]\n",
        "    arrival = df_places.loc[(df_places['PlaceId'] == price_cheap_flight['OutboundLeg.DestinationId'].iloc[0]) ,'Name'].values[0]\n",
        "\n",
        "    \n",
        "    return print(f'Departure date: {departure_date[:10]} \\nCompany name: {company_name} \\nDeparture airport: {departure} \\nArrival airport: {arrival}')"
      ],
      "execution_count": null,
      "outputs": []
    },
    {
      "cell_type": "code",
      "metadata": {
        "id": "c-0Ua6Gk6r_x",
        "outputId": "6d6f12a1-85a1-4f5b-b041-b4cb2b57d6a8"
      },
      "source": [
        "lowest_price_data(\"Lisbon\", \"Barcelona\", \"2021-05-19\", \"2021-05-21\")"
      ],
      "execution_count": null,
      "outputs": [
        {
          "output_type": "stream",
          "text": [
            "Departure date: 2021-05-05 \n",
            "Company name: Ryanair \n",
            "Departure airport: Lisbon \n",
            "Arrival airport: Barcelona\n"
          ],
          "name": "stdout"
        }
      ]
    },
    {
      "cell_type": "code",
      "metadata": {
        "id": "LDtYpQ506r_y"
      },
      "source": [
        ""
      ],
      "execution_count": null,
      "outputs": []
    }
  ]
}